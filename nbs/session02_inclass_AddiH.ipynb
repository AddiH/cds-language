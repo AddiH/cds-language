{
 "cells": [
  {
   "attachments": {},
   "cell_type": "markdown",
   "metadata": {},
   "source": [
    "# Working with strings"
   ]
  },
  {
   "attachments": {},
   "cell_type": "markdown",
   "metadata": {},
   "source": [
    "It is possible to extract quite a lot of interesting, structured information from text data simply by using string processing techiques. \n",
    "\n",
    "In this session, we'll see how to do some of these things, specifically calculating word frequencies and showing key-words-in-context (concordances). We'll do this for individual files and then you'll work together to write Python code which does this for a larger corpus of texts."
   ]
  },
  {
   "cell_type": "code",
   "execution_count": 49,
   "metadata": {},
   "outputs": [],
   "source": [
    "import os # interacting with operating system\n",
    "import re # regex\n",
    "import string\n",
    "from collections import Counter, OrderedDict #"
   ]
  },
  {
   "attachments": {},
   "cell_type": "markdown",
   "metadata": {},
   "source": [
    "__Loading text files__"
   ]
  },
  {
   "attachments": {},
   "cell_type": "markdown",
   "metadata": {},
   "source": [
    "We start by defining a filepath using ```os.path.join()``` like we saw last week."
   ]
  },
  {
   "cell_type": "code",
   "execution_count": 50,
   "metadata": {},
   "outputs": [],
   "source": [
    "dick_path = os.path.join(\"..\", \"data\", \"Dickens_Expectations_1861.txt\")"
   ]
  },
  {
   "attachments": {},
   "cell_type": "markdown",
   "metadata": {},
   "source": [
    "We then need to load the file that we want to work with.\n",
    "\n",
    "There are a number of ways to do this in Python, but the following should be considered \"best practice\"."
   ]
  },
  {
   "cell_type": "code",
   "execution_count": 51,
   "metadata": {},
   "outputs": [],
   "source": [
    "with open(dick_path, \"r\", encoding = \"utf-8-sig\") as f: # specify what encoding the file is in\n",
    "    text = f.read()"
   ]
  },
  {
   "attachments": {},
   "cell_type": "markdown",
   "metadata": {},
   "source": [
    "When we load the text file, we just have a simple string object which can be indexed and sliced."
   ]
  },
  {
   "cell_type": "code",
   "execution_count": 52,
   "metadata": {},
   "outputs": [
    {
     "name": "stdout",
     "output_type": "stream",
     "text": [
      "REAT EXPECTATIONS\n",
      " 1867 Edition \n",
      "by Charles Dickens\n",
      "Chapter I\n",
      "My father's family name being Pirrip, and my Christian name Philip, my\n",
      "infant tongue could make of both names nothing longer or more explicit\n",
      "than Pip. So, I called myself Pip, and came to be called Pip.\n",
      "I give Pirrip as my father's famil\n"
     ]
    },
    {
     "data": {
      "text/plain": [
       "\"REAT EXPECTATIONS\\n 1867 Edition \\nby Charles Dickens\\nChapter I\\nMy father's family name being Pirrip, and my Christian name Philip, my\\ninfant tongue could make of both names nothing longer or more explicit\\nthan Pip. So, I called myself Pip, and came to be called Pip.\\nI give Pirrip as my father's famil\""
      ]
     },
     "execution_count": 52,
     "metadata": {},
     "output_type": "execute_result"
    }
   ],
   "source": [
    "print(text[:300])\n",
    "\n",
    "text[:300] # see the diff?"
   ]
  },
  {
   "attachments": {},
   "cell_type": "markdown",
   "metadata": {},
   "source": [
    "You can see that there are some formatting things that are a little funky, such as lots of newline breaks.\n",
    "\n",
    "We can get rid of those by using the ```.replace()``` method on strings."
   ]
  },
  {
   "cell_type": "code",
   "execution_count": 53,
   "metadata": {},
   "outputs": [],
   "source": [
    "with open(dick_path, \"r\", encoding = \"utf-8-sig\") as f:\n",
    "    text = f.read()\n",
    "\n",
    "text = text.replace(\"\\n\", \" \") # replacing newlines with whitespace\n",
    "text = text.lower() # to lowercase\n",
    "sentences = re.split(r\"[\\.\\?!]\\s*\", text) # Mr. Jones will be split into two sentences\n",
    "text = text.strip(string.punctuation) # remove punctuation\n",
    "tokens = text.split(\" \") # split on whitespace to get tokens"
   ]
  },
  {
   "attachments": {},
   "cell_type": "markdown",
   "metadata": {},
   "source": [
    "__Tokenize text__\n",
    "\n",
    "So far, we have one long string of characters. But we want to be able to work with individual words. To do that, we have to *tokenize* our data - in other words, to split it into individual tokens (or words)."
   ]
  },
  {
   "attachments": {},
   "cell_type": "markdown",
   "metadata": {},
   "source": [
    "__Get sentences with regex__"
   ]
  },
  {
   "attachments": {},
   "cell_type": "markdown",
   "metadata": {},
   "source": [
    "We can use a similar logic to split the data into separate sentences.\n",
    "\n",
    "This time we use a bit of ```regex``` to do our string splitting."
   ]
  },
  {
   "attachments": {},
   "cell_type": "markdown",
   "metadata": {},
   "source": [
    "## Find word frequencies"
   ]
  },
  {
   "attachments": {},
   "cell_type": "markdown",
   "metadata": {},
   "source": [
    "We can count how many times an individual word appears manually, simply by iterating over the list of tokens and using a counter. \n",
    "\n",
    "To do this, we use a built in Python function called ```enumerate()```."
   ]
  },
  {
   "cell_type": "code",
   "execution_count": 55,
   "metadata": {},
   "outputs": [
    {
     "name": "stdout",
     "output_type": "stream",
     "text": [
      "46\n"
     ]
    }
   ],
   "source": [
    "counter = 0\n",
    "keyword = \"love\"\n",
    "\n",
    "for token in tokens:\n",
    "    if token == keyword:\n",
    "        counter += 1\n",
    "\n",
    "print(counter)"
   ]
  },
  {
   "cell_type": "code",
   "execution_count": 56,
   "metadata": {},
   "outputs": [
    {
     "data": {
      "text/plain": [
       "46"
      ]
     },
     "execution_count": 56,
     "metadata": {},
     "output_type": "execute_result"
    }
   ],
   "source": [
    "tokens.count(\"love\")"
   ]
  },
  {
   "attachments": {},
   "cell_type": "markdown",
   "metadata": {},
   "source": [
    "We can use a similar logic to find all sentences where a certain keyword appears."
   ]
  },
  {
   "attachments": {},
   "cell_type": "markdown",
   "metadata": {},
   "source": [
    "Python also has some built-in tools which we can use to count how many times a token appears in a list."
   ]
  },
  {
   "cell_type": "code",
   "execution_count": null,
   "metadata": {},
   "outputs": [],
   "source": [
    "Counter(tokens)"
   ]
  },
  {
   "cell_type": "code",
   "execution_count": null,
   "metadata": {},
   "outputs": [],
   "source": [
    "Counter(tokens).most_common()"
   ]
  },
  {
   "attachments": {},
   "cell_type": "markdown",
   "metadata": {},
   "source": [
    "There are some problems, though! "
   ]
  },
  {
   "cell_type": "code",
   "execution_count": 59,
   "metadata": {},
   "outputs": [
    {
     "name": "stdout",
     "output_type": "stream",
     "text": [
      "918 but i loved joe, - perhaps for no better reason in those early days than because the dear fellow let me love him, - and, as to him, my inner self was not so easily composed\n",
      "1845 \" \"cousin raymond,\" observed another lady, \"we are to love our neighbor\n",
      "2034 it's something to have seen the object of one's love and duty for even so short a time\n",
      "2875 \"if i could only get myself to fall in love with you, - you don't  mind my speaking so openly to such an old acquaintance\n",
      "4116 \"there appeared upon the scene - say at the races, or the public balls, or anywhere else you like - a certain man, who made love to miss havisham\n",
      "4125 your guardian was not at that time in miss havisham's counsels, and she was too haughty and too much in love to be advised by any one\n",
      "4345 that did not extend to me, she told me in a gush of love and confidence  at that time, i had known her something less than five minutes ; if they were all like me, it would be quite another thing\n",
      "4731 \" not a man of them, sir, would be bold enough to try it on, for love or money\n",
      "4997 if now considered in the light of a liberty, excuse it for the love of poor old days\n",
      "5280 the unqualified truth is, that when i loved estella with the love of a man, i loved her simply because i found her irresistible\n",
      "5465 \"love her, love her, love her\n",
      "5467 \" before i could answer  if i could have answered so difficult a question at all  she repeated, \"love her, love her, love her\n",
      "5468 if she favors you, love her\n",
      "5469 if she wounds you, love her\n",
      "5470 if she tears your heart to pieces, - and as it gets older and stronger it will tear deeper, - love her, love her, love her\n",
      "5478 \" she said the word often enough, and there could be no doubt that she meant to say it; but if the often repeated word had been hate instead of love - despair - revenge - dire death - it could not have sounded from her lips more like a curse\n",
      "5479 \"i'll tell you,\" said she, in the same hurried passionate whisper, \"what real love is\n",
      "5552 far into the night, miss havisham's words, \"love her, love her, love her\n",
      "5554 i adapted them for my own repetition, and said to my pillow, \"i love her, i love her, i love her\n",
      "5611 \"herbert,\" said i, laying my hand upon his knee, \"i love - i adore - estella\n",
      "6762 \" i should have replied that love was commonly reputed blind, but for the reason that i always was restrained - and this was not the least of my miseries - by a feeling that it was ungenerous to press myself upon her, when she knew that she could not choose but obey miss havisham\n",
      "6898 i thought i saw him leer in an ugly way at me while the decanters were going round, but as there was no love lost between us, that might easily be\n",
      "6931 to the present moment, i believe it to have been referable to some pure fire of generosity and disinterestedness in my love for her, that i could not endure the thought of her stooping to that hound\n",
      "7223 isn't  there bright eyes somewheres, wot you love the thoughts on\n",
      "8107 \" \"estella,\" said i, turning to her now, and trying to command my trembling voice, \"you know i love you\n",
      "8119 still, i love you\n",
      "8127 when you say you love me, i know what you mean, as a form of words; but nothing more\n",
      "8146 \" \"you cannot love him, estella\n",
      "8157 miss havisham gives you to him, as the greatest slight and injury that could be done to the many far better men who admire you, and to the few who truly love you\n",
      "8409 but what a blessing it is for the son of my father and mother to love a girl who has no relations, and who can never bother herself or anybody else about her family\n",
      "8557 but he presently presented himself under worthier circumstances; for, the genius of youthful love being in want of assistance, - on account of the parental brutality of an ignorant farmer who opposed the choice of his daughter's heart, by purposely falling upon the object, in a flour-sack, out of the first-floor window, - summoned a sententious enchanter; and he, coming up from the antipodes rather unsteadily, after an apparently violent journey, proved to be mr\n",
      "9993 \" \"herbert, i shall always need you, because i shall always love you; but my need is no greater now than at another time\n",
      "10032 i went into a coffee-house to write a little note to clara, telling her he had gone off, sending his love to her over and over again, and then went to my lonely home, - if it deserved the name; for it was now no home to me, and i had no home anywhere\n",
      "10209 do what he would, and love me though he did, the light left his face ever and again, and a film came over the placid look at the white ceiling\n",
      "10228 and i love her\n",
      "10296 so i kissed his hand, and lay quiet, while he proceeded to indite a note to biddy, with my love in it\n",
      "10602 \"dear biddy,\" said i, \"you have the best husband in the whole world, and if you could have seen him by my bed you would have - but no, you couldn't  love him better than you do\n",
      "10606 \"and joe and biddy both, as you have been to church to-day, and are in charity and love with all mankind, receive my humble thanks for all you have done for me, and all i have so ill repaid\n"
     ]
    },
    {
     "data": {
      "text/plain": [
       "38"
      ]
     },
     "execution_count": 59,
     "metadata": {},
     "output_type": "execute_result"
    }
   ],
   "source": [
    "counter = 0\n",
    "keyword = \"love\"\n",
    "\n",
    "for idx, sentence in enumerate(sentences): # idx is index\n",
    "    modified_kw = \" \" + keyword + \" \" \n",
    "    if modified_kw in sentence:\n",
    "        counter += 1\n",
    "        print(idx, sentence)\n",
    "\n",
    "counter"
   ]
  },
  {
   "attachments": {},
   "cell_type": "markdown",
   "metadata": {},
   "source": [
    "if love is the last word it will not catch it. But if we do note put whitespace we will get \"lower\", \"loves\" etc.\n",
    "enumerate gives each sentence a number"
   ]
  },
  {
   "attachments": {},
   "cell_type": "markdown",
   "metadata": {},
   "source": [
    "## Viewing keywords in context (KWIC, concordancing)"
   ]
  },
  {
   "cell_type": "code",
   "execution_count": 61,
   "metadata": {},
   "outputs": [
    {
     "name": "stdout",
     "output_type": "stream",
     "text": [
      "15109 the dear fellow let me                             love                 him, - and, as to                                 \n",
      "30594 another lady, \"we are to                           love                 our neighbor.\" \"sarah pocket,\" returned           \n",
      "33317 seen the object of one's                           love                 and duty for even so                              \n",
      "50167 get myself to fall in                              love                 with you, - you don't                             \n",
      "68979 a certain man, who made                            love                 to miss havisham. i never                         \n",
      "69231 haughty and too much in                            love                 to be advised by any                              \n",
      "73090 me in a gush of                                    love                 and confidence  at that                           \n",
      "78647 to try it on, for                                  love                 or money.\" \"they dread him                        \n",
      "83463 liberty, excuse it for the                         love                 of poor old days. no                              \n",
      "89171 i loved estella with the                           love                 of a man, i loved                                 \n",
      "92141 in the chair. \"love her,                           love                 her, love her! how does                           \n",
      "92143 chair. \"love her, love her,                        love                 her! how does she use                             \n",
      "92171  she repeated, \"love her,                          love                 her, love her! if she                             \n",
      "92173 repeated, \"love her, love her,                     love                 her! if she favors you,                           \n",
      "92179 her! if she favors you,                            love                 her. if she wounds you,                           \n",
      "92185 her. if she wounds you,                            love                 her. if she tears your                            \n",
      "92207 it will tear deeper, -                             love                 her, love her, love her!\"                         \n",
      "92209 tear deeper, - love her,                           love                 her, love her!\" never had                         \n",
      "92211 - love her, love her,                              love                 her!\" never had i seen                            \n",
      "92278 that she might be loved.                           love                 her!\" she said the word                           \n",
      "92309 had been hate instead of                           love                 - despair - revenge -                             \n",
      "92343 hurried passionate whisper, \"what real             love                 is. it is blind devotion,                         \n",
      "93700 miss havisham's words, \"love her,                  love                 her, love her!\" sounded in                        \n",
      "93702 words, \"love her, love her,                        love                 her!\" sounded in my ears.                         \n",
      "93721 said to my pillow, \"i                              love                 her, i love her, i                                \n",
      "93724 pillow, \"i love her, i                             love                 her, i love her!\" hundreds                        \n",
      "93727 her, i love her, i                                 love                 her!\" hundreds of times. then,                    \n",
      "95163 hand upon his knee, \"i                             love                 - i adore - estella.\"                             \n",
      "115882 i should have replied that                         love                 was commonly reputed blind, but                   \n",
      "118615 but as there was no                                love                 lost between us, that might                       \n",
      "119142 generosity and disinterestedness in my             love                 for her, that i could                             \n",
      "123686 bright eyes somewheres, wot you                    love                 the thoughts on?\" o estella,                      \n",
      "138978 trembling voice, \"you know i                       love                 you. you know that i                              \n",
      "139137 i may go. still, i                                 love                 you. i have loved you                             \n",
      "139290 comprehend. when you say you                       love                 me, i know what you                               \n",
      "139499 replied, \"quite true.\" \"you cannot                 love                 him, estella!\" her fingers stopped                \n",
      "139699 to the few who truly                               love                 you. among those few there                        \n",
      "144460 my father and mother to                            love                 a girl who has no                                 \n",
      "147959 for, the genius of youthful                        love                 being in want of assistance,                      \n",
      "173893 you, because i shall always                        love                 you; but my need is                               \n",
      "174576 had gone off, sending his                          love                 to her over and over                              \n",
      "178061 do what he would, and                              love                 me though he did, the                             \n",
      "178284 and very beautiful. and i                          love                 her!\" with a last faint                           \n",
      "179821 note to biddy, with my                             love                 in it. evidently biddy had                        \n",
      "185668 but no, you couldn't                               love                 him better than you do.\"                          \n",
      "185744 and are in charity and                             love                 with all mankind, receive my                      \n"
     ]
    }
   ],
   "source": [
    "keyword = \"love\"\n",
    "\n",
    "for idx, token in enumerate(tokens) :\n",
    "    if token == keyword:\n",
    "        before = ' '.join(tokens[idx-5:idx]) #combining the previous 5 words with a whitspace between\n",
    "        after = ' '.join(tokens[idx+1:idx+6])\n",
    "        full = [before, token, after]\n",
    "        print(idx, \"{:50} {:20} {:50}\".format(*full)) # the numbers denote how many characters/columns you want each wariable to fill. * loops over full \n",
    "        "
   ]
  },
  {
   "cell_type": "markdown",
   "metadata": {},
   "source": [
    "## Exercises"
   ]
  },
  {
   "attachments": {},
   "cell_type": "markdown",
   "metadata": {},
   "source": [
    "In groups, work on the following exercises in class. \n",
    "\n",
    "I've left these somewhat underspecified, so you're welcome to solve them in whatever way you please, and to save the results in whatever format you think works best.\n",
    "\n",
    "- Write some code which searches through *all* of the novels in the folder called *100 English Novels* and shows how many times a given keyword appears in each novel.\n",
    "   - Save your results in a way which \n",
    "- Turn the KWIC in context code above into a function which can be used to show *all* occurrences of a keyword in the corpus. \n",
    "  - Bonus: Your results should show the same results as those above but with an additional column showing the filename\n",
    "  - Bonus: Write your function in such a way that a user can define the context window size to display."
   ]
  },
  {
   "cell_type": "markdown",
   "metadata": {},
   "source": []
  }
 ],
 "metadata": {
  "kernelspec": {
   "display_name": "Python 3",
   "language": "python",
   "name": "python3"
  },
  "language_info": {
   "codemirror_mode": {
    "name": "ipython",
    "version": 3
   },
   "file_extension": ".py",
   "mimetype": "text/x-python",
   "name": "python",
   "nbconvert_exporter": "python",
   "pygments_lexer": "ipython3",
   "version": "3.8.2"
  },
  "orig_nbformat": 4,
  "vscode": {
   "interpreter": {
    "hash": "31f2aee4e71d21fbe5cf8b01ff0e069b9275f58929596ceb00d14d90e3e16cd6"
   }
  }
 },
 "nbformat": 4,
 "nbformat_minor": 2
}
