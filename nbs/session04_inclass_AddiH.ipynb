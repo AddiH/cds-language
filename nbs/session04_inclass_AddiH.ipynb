{
 "cells": [
  {
   "cell_type": "markdown",
   "metadata": {},
   "source": [
    "# Simple text classification using ```scikit-learn```"
   ]
  },
  {
   "cell_type": "markdown",
   "metadata": {},
   "source": [
    "## Import packages\n"
   ]
  },
  {
   "cell_type": "code",
   "execution_count": 1,
   "metadata": {
    "execution": {
     "iopub.execute_input": "2022-03-28T12:12:39.290472Z",
     "iopub.status.busy": "2022-03-28T12:12:39.289514Z",
     "iopub.status.idle": "2022-03-28T12:12:40.122230Z",
     "shell.execute_reply": "2022-03-28T12:12:40.121210Z",
     "shell.execute_reply.started": "2022-03-28T12:12:39.290416Z"
    },
    "tags": []
   },
   "outputs": [],
   "source": [
    "# system tools\n",
    "import os\n",
    "import sys\n",
    "sys.path.append(\"..\")\n",
    "\n",
    "# data munging tools\n",
    "import pandas as pd\n",
    "import utils.classifier_utils as clf\n",
    "\n",
    "# Machine learning stuff\n",
    "from sklearn.feature_extraction.text import CountVectorizer, TfidfVectorizer\n",
    "from sklearn.linear_model import LogisticRegression\n",
    "from sklearn.model_selection import train_test_split, ShuffleSplit\n",
    "from sklearn import metrics\n",
    "\n",
    "# Visualisation\n",
    "import matplotlib.pyplot as plt"
   ]
  },
  {
   "cell_type": "markdown",
   "metadata": {},
   "source": [
    "## Reading in the data"
   ]
  },
  {
   "cell_type": "markdown",
   "metadata": {},
   "source": [
    "Our data is already in a tabular format, so we're going to load it using ```pandas```"
   ]
  },
  {
   "cell_type": "code",
   "execution_count": 2,
   "metadata": {
    "execution": {
     "iopub.execute_input": "2022-03-28T12:15:21.036862Z",
     "iopub.status.busy": "2022-03-28T12:15:21.036359Z",
     "iopub.status.idle": "2022-03-28T12:15:21.362233Z",
     "shell.execute_reply": "2022-03-28T12:15:21.361431Z",
     "shell.execute_reply.started": "2022-03-28T12:15:21.036815Z"
    },
    "tags": []
   },
   "outputs": [],
   "source": [
    "filename = os.path.join(\"..\",\"data\",\"fake_or_real_news.csv\")\n",
    "\n",
    "data = pd.read_csv(filename, index_col=0)"
   ]
  },
  {
   "cell_type": "markdown",
   "metadata": {},
   "source": [
    "__Inspect data__"
   ]
  },
  {
   "cell_type": "code",
   "execution_count": 3,
   "metadata": {
    "execution": {
     "iopub.execute_input": "2022-03-28T12:15:22.266915Z",
     "iopub.status.busy": "2022-03-28T12:15:22.266409Z",
     "iopub.status.idle": "2022-03-28T12:15:22.282353Z",
     "shell.execute_reply": "2022-03-28T12:15:22.281776Z",
     "shell.execute_reply.started": "2022-03-28T12:15:22.266869Z"
    },
    "tags": []
   },
   "outputs": [
    {
     "data": {
      "text/html": [
       "<div>\n",
       "<style scoped>\n",
       "    .dataframe tbody tr th:only-of-type {\n",
       "        vertical-align: middle;\n",
       "    }\n",
       "\n",
       "    .dataframe tbody tr th {\n",
       "        vertical-align: top;\n",
       "    }\n",
       "\n",
       "    .dataframe thead th {\n",
       "        text-align: right;\n",
       "    }\n",
       "</style>\n",
       "<table border=\"1\" class=\"dataframe\">\n",
       "  <thead>\n",
       "    <tr style=\"text-align: right;\">\n",
       "      <th></th>\n",
       "      <th>title</th>\n",
       "      <th>text</th>\n",
       "      <th>label</th>\n",
       "    </tr>\n",
       "  </thead>\n",
       "  <tbody>\n",
       "    <tr>\n",
       "      <th>10124</th>\n",
       "      <td>THE AMERICAN PUBLIC CAN NO LONGER DEAL WITH TH...</td>\n",
       "      <td>Home › ECONOMIC › THE AMERICAN PUBLIC CAN NO L...</td>\n",
       "      <td>FAKE</td>\n",
       "    </tr>\n",
       "    <tr>\n",
       "      <th>5170</th>\n",
       "      <td>The math is with Hillary: She’s surging in the...</td>\n",
       "      <td>Silver’s model gives Trump a 19 percent chance...</td>\n",
       "      <td>REAL</td>\n",
       "    </tr>\n",
       "    <tr>\n",
       "      <th>4201</th>\n",
       "      <td>GOP elites are now resigned to Donald Trump as...</td>\n",
       "      <td>Throughout the Republican Party, from New Hamp...</td>\n",
       "      <td>REAL</td>\n",
       "    </tr>\n",
       "    <tr>\n",
       "      <th>2463</th>\n",
       "      <td>Nurse Chris Christie Quarantined For Ebola Goe...</td>\n",
       "      <td>New Jersey Gov. Chris Christie (R) came out as...</td>\n",
       "      <td>REAL</td>\n",
       "    </tr>\n",
       "    <tr>\n",
       "      <th>4983</th>\n",
       "      <td>Trump to African Americans: 'What Do You Have ...</td>\n",
       "      <td>Donald Trump made his most direct appeal to Af...</td>\n",
       "      <td>REAL</td>\n",
       "    </tr>\n",
       "    <tr>\n",
       "      <th>7819</th>\n",
       "      <td>No One Tried to Assassinate Donald Trump … But...</td>\n",
       "      <td>By Daisy Luther UPDATED: Although it doesn’t a...</td>\n",
       "      <td>FAKE</td>\n",
       "    </tr>\n",
       "    <tr>\n",
       "      <th>9836</th>\n",
       "      <td>How Instagram Becomes Backbone for Businesses</td>\n",
       "      <td>How Instagram Becomes Backbone for Businesses ...</td>\n",
       "      <td>FAKE</td>\n",
       "    </tr>\n",
       "    <tr>\n",
       "      <th>3003</th>\n",
       "      <td>Barack Obama says memory of Hiroshima 'must ne...</td>\n",
       "      <td>Barack Obama called on the world to choose a f...</td>\n",
       "      <td>REAL</td>\n",
       "    </tr>\n",
       "    <tr>\n",
       "      <th>6547</th>\n",
       "      <td>John Oliver’s Smear Tactics Exposed As Establi...</td>\n",
       "      <td>John Oliver’s Smear Tactics Exposed As Establi...</td>\n",
       "      <td>FAKE</td>\n",
       "    </tr>\n",
       "    <tr>\n",
       "      <th>4659</th>\n",
       "      <td>Trump Will Go Away, but the Anger He’s Stirred...</td>\n",
       "      <td>Don’t gloat, progressives. Your candidate is g...</td>\n",
       "      <td>REAL</td>\n",
       "    </tr>\n",
       "  </tbody>\n",
       "</table>\n",
       "</div>"
      ],
      "text/plain": [
       "                                                   title  \\\n",
       "10124  THE AMERICAN PUBLIC CAN NO LONGER DEAL WITH TH...   \n",
       "5170   The math is with Hillary: She’s surging in the...   \n",
       "4201   GOP elites are now resigned to Donald Trump as...   \n",
       "2463   Nurse Chris Christie Quarantined For Ebola Goe...   \n",
       "4983   Trump to African Americans: 'What Do You Have ...   \n",
       "7819   No One Tried to Assassinate Donald Trump … But...   \n",
       "9836       How Instagram Becomes Backbone for Businesses   \n",
       "3003   Barack Obama says memory of Hiroshima 'must ne...   \n",
       "6547   John Oliver’s Smear Tactics Exposed As Establi...   \n",
       "4659   Trump Will Go Away, but the Anger He’s Stirred...   \n",
       "\n",
       "                                                    text label  \n",
       "10124  Home › ECONOMIC › THE AMERICAN PUBLIC CAN NO L...  FAKE  \n",
       "5170   Silver’s model gives Trump a 19 percent chance...  REAL  \n",
       "4201   Throughout the Republican Party, from New Hamp...  REAL  \n",
       "2463   New Jersey Gov. Chris Christie (R) came out as...  REAL  \n",
       "4983   Donald Trump made his most direct appeal to Af...  REAL  \n",
       "7819   By Daisy Luther UPDATED: Although it doesn’t a...  FAKE  \n",
       "9836   How Instagram Becomes Backbone for Businesses ...  FAKE  \n",
       "3003   Barack Obama called on the world to choose a f...  REAL  \n",
       "6547   John Oliver’s Smear Tactics Exposed As Establi...  FAKE  \n",
       "4659   Don’t gloat, progressives. Your candidate is g...  REAL  "
      ]
     },
     "execution_count": 3,
     "metadata": {},
     "output_type": "execute_result"
    }
   ],
   "source": [
    "data.sample(10)"
   ]
  },
  {
   "cell_type": "code",
   "execution_count": 4,
   "metadata": {
    "execution": {
     "iopub.execute_input": "2022-03-28T12:15:57.481869Z",
     "iopub.status.busy": "2022-03-28T12:15:57.481364Z",
     "iopub.status.idle": "2022-03-28T12:15:57.489668Z",
     "shell.execute_reply": "2022-03-28T12:15:57.488936Z",
     "shell.execute_reply.started": "2022-03-28T12:15:57.481821Z"
    },
    "tags": []
   },
   "outputs": [
    {
     "data": {
      "text/plain": [
       "(6335, 3)"
      ]
     },
     "execution_count": 4,
     "metadata": {},
     "output_type": "execute_result"
    }
   ],
   "source": [
    "data.shape"
   ]
  },
  {
   "cell_type": "markdown",
   "metadata": {},
   "source": [
    "<br>\n",
    "Q: How many examples of each label do we have?"
   ]
  },
  {
   "cell_type": "code",
   "execution_count": 5,
   "metadata": {
    "execution": {
     "iopub.execute_input": "2022-03-28T12:17:06.618265Z",
     "iopub.status.busy": "2022-03-28T12:17:06.617774Z",
     "iopub.status.idle": "2022-03-28T12:17:06.630197Z",
     "shell.execute_reply": "2022-03-28T12:17:06.629165Z",
     "shell.execute_reply.started": "2022-03-28T12:17:06.618219Z"
    },
    "tags": []
   },
   "outputs": [
    {
     "data": {
      "text/plain": [
       "REAL    3171\n",
       "FAKE    3164\n",
       "Name: label, dtype: int64"
      ]
     },
     "execution_count": 5,
     "metadata": {},
     "output_type": "execute_result"
    }
   ],
   "source": [
    "data[\"label\"].value_counts() # should be balanced equally between real and fake"
   ]
  },
  {
   "cell_type": "markdown",
   "metadata": {},
   "source": [
    "<br>\n",
    "\n",
    "Let's now create new variables called ```X``` and ```y```, taking the data out of the dataframe so that we can mess around with them."
   ]
  },
  {
   "cell_type": "code",
   "execution_count": 6,
   "metadata": {
    "execution": {
     "iopub.execute_input": "2022-03-28T12:20:59.125409Z",
     "iopub.status.busy": "2022-03-28T12:20:59.124923Z",
     "iopub.status.idle": "2022-03-28T12:20:59.131919Z",
     "shell.execute_reply": "2022-03-28T12:20:59.130910Z",
     "shell.execute_reply.started": "2022-03-28T12:20:59.125362Z"
    },
    "tags": []
   },
   "outputs": [],
   "source": [
    "X = data[\"text\"] # input data\n",
    "y = data[\"label\"] "
   ]
  },
  {
   "cell_type": "code",
   "execution_count": 10,
   "metadata": {},
   "outputs": [
    {
     "data": {
      "text/plain": [
       "pandas.core.series.Series"
      ]
     },
     "execution_count": 10,
     "metadata": {},
     "output_type": "execute_result"
    }
   ],
   "source": [
    "type(X)"
   ]
  },
  {
   "cell_type": "markdown",
   "metadata": {},
   "source": [
    "## Train-test split"
   ]
  },
  {
   "cell_type": "markdown",
   "metadata": {},
   "source": [
    "I've included most of the 'hard work' for you here already, because these are long cells which might be easy to mess up while live-coding.\n",
    "\n",
    "Instead, we'll discuss what's happening. If you have questions, don't be shy!"
   ]
  },
  {
   "cell_type": "code",
   "execution_count": 7,
   "metadata": {
    "execution": {
     "iopub.execute_input": "2022-03-28T12:36:32.795905Z",
     "iopub.status.busy": "2022-03-28T12:36:32.795208Z",
     "iopub.status.idle": "2022-03-28T12:36:32.806564Z",
     "shell.execute_reply": "2022-03-28T12:36:32.805223Z",
     "shell.execute_reply.started": "2022-03-28T12:36:32.795854Z"
    },
    "tags": []
   },
   "outputs": [],
   "source": [
    "X_train, X_test, y_train, y_test = train_test_split(X,               # texts for the model\n",
    "                                                    y,               # classification labels\n",
    "                                                    test_size=0.2,   # create an 80/20 split\n",
    "                                                    random_state=42) # random state for reproducibility"
   ]
  },
  {
   "cell_type": "markdown",
   "metadata": {},
   "source": [
    "## Vectorizing and Feature Extraction"
   ]
  },
  {
   "cell_type": "markdown",
   "metadata": {},
   "source": [
    "Vectorization. What is it and why are all the cool kids talking about it?\n",
    "\n",
    "Essentially, vectorization is the process whereby textual or visual data is 'transformed' into some kind of numerical representation. One of the easiest ways to do this is to simple count how often individual features appear in a document.\n",
    "\n",
    "Take the following text: \n",
    "<br><br>\n",
    "<i>My father’s family name being Pirrip, and my Christian name Philip, my infant tongue could make of both names nothing longer or more explicit than Pip. So, I called myself Pip, and came to be called Pip.</i>\n",
    "<br>\n",
    "\n",
    "We can convert this into the following vector\n",
    "\n",
    "| and | be | being | both | called | came | christian | could | explicit | family | father | i | infant | longer | make | more | my | myself | name | names | nothing | of | or | philip | pip | pirrip | s | so | than | to | tongue|\n",
    "| --- | --- | --- | --- | --- | --- | --- | --- | --- | --- | --- | --- | --- | --- | --- | --- | --- | --- | --- | --- | --- | --- | --- | --- | --- | --- | --- | --- | --- | --- |  --- |\n",
    "| 2 | 1 | 1 | 1 | 2 | 1 | 1 | 1 | 1 | 1 | 1 | 1 | 1 | 1 | 1 | 1 | 3 | 1 | 2 | 1 | 1 | 1 | 1 | 1 | 3 | 1 | 1 | 1 | 1 | 1 | 1 |\n",
    "\n",
    "<br>\n",
    "Our textual data is hence reduced to a jumbled-up 'vector' of numbers, known somewhat quaintly as a <i>bag-of-words</i>.\n",
    "<br>\n",
    "<br>\n",
    "To do this in practice, we first need to create a vectorizer. \n",
    "\n",
    "Tfidf vectors tend to be better for training classifiers. Why might that be?"
   ]
  },
  {
   "cell_type": "markdown",
   "metadata": {},
   "source": [
    "__Create vectorizer object__"
   ]
  },
  {
   "cell_type": "code",
   "execution_count": 12,
   "metadata": {
    "execution": {
     "iopub.execute_input": "2022-03-28T13:17:17.502500Z",
     "iopub.status.busy": "2022-03-28T13:17:17.502011Z",
     "iopub.status.idle": "2022-03-28T13:17:17.570253Z",
     "shell.execute_reply": "2022-03-28T13:17:17.569510Z",
     "shell.execute_reply.started": "2022-03-28T13:17:17.502455Z"
    },
    "tags": []
   },
   "outputs": [],
   "source": [
    "vectorizer = CountVectorizer(ngram_range = (1,2),     # unigrams and bigrams (1 word and 2 word units)\n",
    "                             lowercase =  True,       # why use lowercase?\n",
    "                             max_df = 0.95,           # remove very common words\n",
    "                             min_df = 0.05,           # remove very rare words (hard to say where to put boundary, but can help etc. overfitting, and removing spelling errors)\n",
    "                             max_features = 100)      # keep only top 100 features"
   ]
  },
  {
   "cell_type": "markdown",
   "metadata": {},
   "source": [
    "# We do not get rid of stopwords, because they can be meaningful. Say finding the diff between news papers and acedemic texts"
   ]
  },
  {
   "cell_type": "markdown",
   "metadata": {},
   "source": [
    "This vectorizer is then used to turn all of our documents into a vector of numbers, instead of text."
   ]
  },
  {
   "cell_type": "code",
   "execution_count": 14,
   "metadata": {
    "execution": {
     "iopub.execute_input": "2022-03-28T13:17:23.170332Z",
     "iopub.status.busy": "2022-03-28T13:17:23.169719Z",
     "iopub.status.idle": "2022-03-28T13:17:26.600365Z",
     "shell.execute_reply": "2022-03-28T13:17:26.599006Z",
     "shell.execute_reply.started": "2022-03-28T13:17:23.170284Z"
    },
    "tags": []
   },
   "outputs": [],
   "source": [
    "# first we fit to the training data...\n",
    "X_train_feats = vectorizer.fit_transform(X_train)\n",
    "\n",
    "#... then do it for our test data\n",
    "X_test_feats = vectorizer.transform(X_test)"
   ]
  },
  {
   "cell_type": "code",
   "execution_count": null,
   "metadata": {},
   "outputs": [],
   "source": [
    "# get feature names\n",
    "feature_names = vectorizer.get_feature_names() # changed fromg et_feature_names_out() "
   ]
  },
  {
   "cell_type": "code",
   "execution_count": 15,
   "metadata": {},
   "outputs": [
    {
     "data": {
      "text/plain": [
       "['about',\n",
       " 'after',\n",
       " 'all',\n",
       " 'also',\n",
       " 'an',\n",
       " 'and',\n",
       " 'and the',\n",
       " 'are',\n",
       " 'as',\n",
       " 'at',\n",
       " 'at the',\n",
       " 'be',\n",
       " 'because',\n",
       " 'been',\n",
       " 'but',\n",
       " 'by',\n",
       " 'campaign',\n",
       " 'can',\n",
       " 'clinton',\n",
       " 'could',\n",
       " 'do',\n",
       " 'even',\n",
       " 'first',\n",
       " 'for',\n",
       " 'for the',\n",
       " 'from',\n",
       " 'had',\n",
       " 'has',\n",
       " 'have',\n",
       " 'he',\n",
       " 'her',\n",
       " 'hillary',\n",
       " 'him',\n",
       " 'his',\n",
       " 'how',\n",
       " 'if',\n",
       " 'in',\n",
       " 'in the',\n",
       " 'into',\n",
       " 'is',\n",
       " 'it',\n",
       " 'its',\n",
       " 'just',\n",
       " 'like',\n",
       " 'many',\n",
       " 'more',\n",
       " 'most',\n",
       " 'new',\n",
       " 'no',\n",
       " 'not',\n",
       " 'now',\n",
       " 'obama',\n",
       " 'of',\n",
       " 'of the',\n",
       " 'on',\n",
       " 'on the',\n",
       " 'one',\n",
       " 'only',\n",
       " 'or',\n",
       " 'other',\n",
       " 'our',\n",
       " 'out',\n",
       " 'over',\n",
       " 'party',\n",
       " 'people',\n",
       " 'president',\n",
       " 'republican',\n",
       " 'said',\n",
       " 'she',\n",
       " 'so',\n",
       " 'some',\n",
       " 'state',\n",
       " 'states',\n",
       " 'than',\n",
       " 'that',\n",
       " 'that the',\n",
       " 'their',\n",
       " 'them',\n",
       " 'there',\n",
       " 'they',\n",
       " 'this',\n",
       " 'time',\n",
       " 'to be',\n",
       " 'to the',\n",
       " 'trump',\n",
       " 'two',\n",
       " 'up',\n",
       " 'us',\n",
       " 'was',\n",
       " 'we',\n",
       " 'were',\n",
       " 'what',\n",
       " 'when',\n",
       " 'which',\n",
       " 'who',\n",
       " 'will',\n",
       " 'with',\n",
       " 'with the',\n",
       " 'would',\n",
       " 'you']"
      ]
     },
     "execution_count": 15,
     "metadata": {},
     "output_type": "execute_result"
    }
   ],
   "source": [
    "feature_names"
   ]
  },
  {
   "cell_type": "markdown",
   "metadata": {},
   "source": [
    "## Classifying and predicting"
   ]
  },
  {
   "cell_type": "markdown",
   "metadata": {},
   "source": [
    "We now have to 'fit' the classifier to our data. This means that the classifier takes our data and finds correlations between features and labels.\n",
    "\n",
    "These correlations are then the *model* that the classifier learns about our data. This model can then be used to predict the label for new, unseen data."
   ]
  },
  {
   "cell_type": "code",
   "execution_count": 16,
   "metadata": {
    "execution": {
     "iopub.execute_input": "2022-03-28T13:17:31.431697Z",
     "iopub.status.busy": "2022-03-28T13:17:31.431195Z",
     "iopub.status.idle": "2022-03-28T13:17:31.466813Z",
     "shell.execute_reply": "2022-03-28T13:17:31.466126Z",
     "shell.execute_reply.started": "2022-03-28T13:17:31.431650Z"
    },
    "tags": []
   },
   "outputs": [],
   "source": [
    "classifier = LogisticRegression(random_state=42).fit(X_train_feats, y_train)"
   ]
  },
  {
   "cell_type": "markdown",
   "metadata": {},
   "source": [
    "Q: How do we use the classifier to make predictions?"
   ]
  },
  {
   "cell_type": "code",
   "execution_count": 17,
   "metadata": {
    "execution": {
     "iopub.execute_input": "2022-03-28T13:17:32.957309Z",
     "iopub.status.busy": "2022-03-28T13:17:32.956823Z",
     "iopub.status.idle": "2022-03-28T13:17:32.963699Z",
     "shell.execute_reply": "2022-03-28T13:17:32.962708Z",
     "shell.execute_reply.started": "2022-03-28T13:17:32.957263Z"
    },
    "tags": []
   },
   "outputs": [],
   "source": [
    "y_pred = classifier.predict(X_test_feats)"
   ]
  },
  {
   "cell_type": "markdown",
   "metadata": {},
   "source": [
    "Q: What are the predictions for the first 20 examples of the test data?"
   ]
  },
  {
   "cell_type": "code",
   "execution_count": 18,
   "metadata": {
    "execution": {
     "iopub.execute_input": "2022-03-28T13:17:35.051012Z",
     "iopub.status.busy": "2022-03-28T13:17:35.050490Z",
     "iopub.status.idle": "2022-03-28T13:17:35.058906Z",
     "shell.execute_reply": "2022-03-28T13:17:35.057898Z",
     "shell.execute_reply.started": "2022-03-28T13:17:35.050957Z"
    },
    "tags": []
   },
   "outputs": [
    {
     "name": "stdout",
     "output_type": "stream",
     "text": [
      "['FAKE' 'FAKE' 'FAKE' 'FAKE' 'FAKE' 'FAKE' 'REAL' 'FAKE' 'REAL' 'FAKE'\n",
      " 'FAKE' 'REAL' 'REAL' 'FAKE' 'FAKE' 'FAKE' 'FAKE' 'REAL' 'REAL' 'REAL']\n"
     ]
    }
   ],
   "source": [
    "print(y_pred[:20])"
   ]
  },
  {
   "cell_type": "markdown",
   "metadata": {},
   "source": [
    "We can also inspect the model, in order to see which features are most informative when trying to predict a label. \n",
    "\n",
    "To do this, we can use the ```show_features``` function that I defined earlier - how convenient!"
   ]
  },
  {
   "cell_type": "markdown",
   "metadata": {},
   "source": [
    "Q: What are the most informative features? Use ```show_features```to find out!"
   ]
  },
  {
   "cell_type": "code",
   "execution_count": 19,
   "metadata": {
    "execution": {
     "iopub.execute_input": "2022-03-28T13:17:38.051311Z",
     "iopub.status.busy": "2022-03-28T13:17:38.050711Z",
     "iopub.status.idle": "2022-03-28T13:17:38.061557Z",
     "shell.execute_reply": "2022-03-28T13:17:38.060803Z",
     "shell.execute_reply.started": "2022-03-28T13:17:38.051262Z"
    },
    "tags": []
   },
   "outputs": [
    {
     "ename": "AttributeError",
     "evalue": "'CountVectorizer' object has no attribute 'get_feature_names_out'",
     "output_type": "error",
     "traceback": [
      "\u001b[0;31m---------------------------------------------------------------------------\u001b[0m",
      "\u001b[0;31mAttributeError\u001b[0m                            Traceback (most recent call last)",
      "\u001b[0;32m<ipython-input-19-ca2f778682f3>\u001b[0m in \u001b[0;36m<module>\u001b[0;34m\u001b[0m\n\u001b[0;32m----> 1\u001b[0;31m \u001b[0mclf\u001b[0m\u001b[0;34m.\u001b[0m\u001b[0mshow_features\u001b[0m\u001b[0;34m(\u001b[0m\u001b[0mvectorizer\u001b[0m\u001b[0;34m,\u001b[0m \u001b[0my_train\u001b[0m\u001b[0;34m,\u001b[0m \u001b[0mclassifier\u001b[0m\u001b[0;34m,\u001b[0m \u001b[0mn\u001b[0m\u001b[0;34m=\u001b[0m\u001b[0;36m20\u001b[0m\u001b[0;34m)\u001b[0m\u001b[0;34m\u001b[0m\u001b[0;34m\u001b[0m\u001b[0m\n\u001b[0m",
      "\u001b[0;32m~/cds-language/utils/classifier_utils.py\u001b[0m in \u001b[0;36mshow_features\u001b[0;34m(vectorizer, training_labels, classifier, n)\u001b[0m\n\u001b[1;32m     38\u001b[0m     \"\"\"\n\u001b[1;32m     39\u001b[0m     \u001b[0;31m# Get feature names and coefficients\u001b[0m\u001b[0;34m\u001b[0m\u001b[0;34m\u001b[0m\u001b[0;34m\u001b[0m\u001b[0m\n\u001b[0;32m---> 40\u001b[0;31m     \u001b[0mfeature_names\u001b[0m \u001b[0;34m=\u001b[0m \u001b[0mvectorizer\u001b[0m\u001b[0;34m.\u001b[0m\u001b[0mget_feature_names_out\u001b[0m\u001b[0;34m(\u001b[0m\u001b[0;34m)\u001b[0m\u001b[0;34m\u001b[0m\u001b[0;34m\u001b[0m\u001b[0m\n\u001b[0m\u001b[1;32m     41\u001b[0m     \u001b[0mcoefs_with_fns\u001b[0m \u001b[0;34m=\u001b[0m \u001b[0msorted\u001b[0m\u001b[0;34m(\u001b[0m\u001b[0mzip\u001b[0m\u001b[0;34m(\u001b[0m\u001b[0mclassifier\u001b[0m\u001b[0;34m.\u001b[0m\u001b[0mcoef_\u001b[0m\u001b[0;34m[\u001b[0m\u001b[0;36m0\u001b[0m\u001b[0;34m]\u001b[0m\u001b[0;34m,\u001b[0m \u001b[0mfeature_names\u001b[0m\u001b[0;34m)\u001b[0m\u001b[0;34m)\u001b[0m\u001b[0;34m\u001b[0m\u001b[0;34m\u001b[0m\u001b[0m\n\u001b[1;32m     42\u001b[0m     \u001b[0;31m# Get ordered labels\u001b[0m\u001b[0;34m\u001b[0m\u001b[0;34m\u001b[0m\u001b[0;34m\u001b[0m\u001b[0m\n",
      "\u001b[0;31mAttributeError\u001b[0m: 'CountVectorizer' object has no attribute 'get_feature_names_out'"
     ]
    }
   ],
   "source": [
    "clf.show_features(vectorizer, y_train, classifier, n=20)"
   ]
  },
  {
   "cell_type": "markdown",
   "metadata": {},
   "source": [
    "## Evaluate"
   ]
  },
  {
   "cell_type": "markdown",
   "metadata": {},
   "source": [
    "We can also do some quick calculations, in order to assess just how well our model performs."
   ]
  },
  {
   "cell_type": "code",
   "execution_count": 20,
   "metadata": {
    "execution": {
     "iopub.execute_input": "2022-03-28T13:18:02.772412Z",
     "iopub.status.busy": "2022-03-28T13:18:02.771808Z",
     "iopub.status.idle": "2022-03-28T13:18:02.862766Z",
     "shell.execute_reply": "2022-03-28T13:18:02.862174Z",
     "shell.execute_reply.started": "2022-03-28T13:18:02.772365Z"
    },
    "scrolled": true,
    "tags": []
   },
   "outputs": [
    {
     "ename": "AttributeError",
     "evalue": "type object 'ConfusionMatrixDisplay' has no attribute 'from_estimator'",
     "output_type": "error",
     "traceback": [
      "\u001b[0;31m---------------------------------------------------------------------------\u001b[0m",
      "\u001b[0;31mAttributeError\u001b[0m                            Traceback (most recent call last)",
      "\u001b[0;32m<ipython-input-20-4488942cc5e4>\u001b[0m in \u001b[0;36m<module>\u001b[0;34m\u001b[0m\n\u001b[0;32m----> 1\u001b[0;31m metrics.ConfusionMatrixDisplay.from_estimator(classifier,           # the classifier name\n\u001b[0m\u001b[1;32m      2\u001b[0m                                             \u001b[0mX_train_feats\u001b[0m\u001b[0;34m,\u001b[0m          \u001b[0;31m# the training features\u001b[0m\u001b[0;34m\u001b[0m\u001b[0;34m\u001b[0m\u001b[0m\n\u001b[1;32m      3\u001b[0m                                             \u001b[0my_train\u001b[0m\u001b[0;34m,\u001b[0m                \u001b[0;31m# the training labels\u001b[0m\u001b[0;34m\u001b[0m\u001b[0;34m\u001b[0m\u001b[0m\n\u001b[1;32m      4\u001b[0m                                             \u001b[0mcmap\u001b[0m\u001b[0;34m=\u001b[0m\u001b[0mplt\u001b[0m\u001b[0;34m.\u001b[0m\u001b[0mcm\u001b[0m\u001b[0;34m.\u001b[0m\u001b[0mBlues\u001b[0m\u001b[0;34m,\u001b[0m      \u001b[0;31m# make the colours prettier\u001b[0m\u001b[0;34m\u001b[0m\u001b[0;34m\u001b[0m\u001b[0m\n\u001b[1;32m      5\u001b[0m                                             labels=[\"FAKE\", \"REAL\"])# the labels in your data arranged alphabetically\n",
      "\u001b[0;31mAttributeError\u001b[0m: type object 'ConfusionMatrixDisplay' has no attribute 'from_estimator'"
     ]
    }
   ],
   "source": [
    "metrics.ConfusionMatrixDisplay.from_estimator(classifier,           # the classifier name\n",
    "                                            X_train_feats,          # the training features\n",
    "                                            y_train,                # the training labels\n",
    "                                            cmap=plt.cm.Blues,      # make the colours prettier\n",
    "                                            labels=[\"FAKE\", \"REAL\"])# the labels in your data arranged alphabetically"
   ]
  },
  {
   "cell_type": "markdown",
   "metadata": {},
   "source": [
    "This confusion matrix can be broken down a little bit more and used to draw more meaningful statistical results:\n",
    "\n",
    "<img src=\"../img/confusionMatrix.jpg\" alt=\"Alternative text\" />"
   ]
  },
  {
   "cell_type": "markdown",
   "metadata": {},
   "source": [
    "__Calculating metrics__"
   ]
  },
  {
   "cell_type": "markdown",
   "metadata": {},
   "source": [
    "```scikit-learn``` has a built-in set of tools which can be used to calculate these metrics, to get a better idea of how our model is performing."
   ]
  },
  {
   "cell_type": "code",
   "execution_count": null,
   "metadata": {
    "execution": {
     "iopub.execute_input": "2022-03-28T13:18:22.267289Z",
     "iopub.status.busy": "2022-03-28T13:18:22.266672Z",
     "iopub.status.idle": "2022-03-28T13:18:22.292665Z",
     "shell.execute_reply": "2022-03-28T13:18:22.292035Z",
     "shell.execute_reply.started": "2022-03-28T13:18:22.267241Z"
    },
    "tags": []
   },
   "outputs": [],
   "source": [
    "classifier_metrics = metrics.classification_report(y_test, y_pred)\n",
    "print(classifier_metrics)"
   ]
  },
  {
   "cell_type": "markdown",
   "metadata": {
    "tags": []
   },
   "source": [
    "## Cross validation and further evaluation"
   ]
  },
  {
   "cell_type": "markdown",
   "metadata": {},
   "source": [
    "One thing we can't be sure of is that our model performance is simply related to how the train-test split is made.\n",
    "\n",
    "To try to mitigate this, we can perform cross-validation, in order to test a number of different train-test splits and finding the average scores.\n",
    "\n",
    "Let's do this on the full dataset:"
   ]
  },
  {
   "cell_type": "code",
   "execution_count": null,
   "metadata": {
    "execution": {
     "iopub.execute_input": "2022-03-28T13:18:32.563006Z",
     "iopub.status.busy": "2022-03-28T13:18:32.562497Z",
     "iopub.status.idle": "2022-03-28T13:18:36.378503Z",
     "shell.execute_reply": "2022-03-28T13:18:36.377522Z",
     "shell.execute_reply.started": "2022-03-28T13:18:32.562958Z"
    },
    "tags": []
   },
   "outputs": [],
   "source": [
    "X_vect = vectorizer.fit_transform(X)"
   ]
  },
  {
   "cell_type": "markdown",
   "metadata": {},
   "source": [
    "The first plot is probably the most interesting. Some terminology:\n",
    "\n",
    "- If two curves are \"close to each other\" and both of them but have a low score, the model suffers from an underfitting problem (High Bias)\n",
    "\n",
    "- If there are large gaps between two curves, then the model suffer from an overfitting problem (High Variance)\n"
   ]
  },
  {
   "cell_type": "code",
   "execution_count": null,
   "metadata": {
    "execution": {
     "iopub.execute_input": "2022-03-28T13:18:42.181255Z",
     "iopub.status.busy": "2022-03-28T13:18:42.180757Z",
     "iopub.status.idle": "2022-03-28T13:18:45.510822Z",
     "shell.execute_reply": "2022-03-28T13:18:45.510110Z",
     "shell.execute_reply.started": "2022-03-28T13:18:42.181208Z"
    },
    "tags": []
   },
   "outputs": [],
   "source": [
    "title = \"Learning Curves (Logistic Regression)\"\n",
    "cv = ShuffleSplit(n_splits=100, test_size=0.2, random_state=0)\n",
    "\n",
    "estimator = LogisticRegression(random_state=42)\n",
    "clf.plot_learning_curve(estimator, title, X_vect, y, cv=cv, n_jobs=4)"
   ]
  },
  {
   "cell_type": "markdown",
   "metadata": {},
   "source": [
    "- The second plot shows how model performance scales when more data is added;\n",
    "- The third plot shows how much of a performance improvement we get from adding more data"
   ]
  },
  {
   "cell_type": "markdown",
   "metadata": {},
   "source": [
    "## Save models\n",
    "\n",
    "It is also somewhat trivial to save models and reload them for later use. For that, we can use the library ```joblib```."
   ]
  },
  {
   "cell_type": "code",
   "execution_count": null,
   "metadata": {
    "execution": {
     "iopub.execute_input": "2022-03-28T13:23:43.082858Z",
     "iopub.status.busy": "2022-03-28T13:23:43.082337Z",
     "iopub.status.idle": "2022-03-28T13:23:43.093599Z",
     "shell.execute_reply": "2022-03-28T13:23:43.092722Z",
     "shell.execute_reply.started": "2022-03-28T13:23:43.082808Z"
    }
   },
   "outputs": [],
   "source": [
    "from joblib import dump, load\n",
    "dump(classifier, \"LR_classifier.joblib\")\n",
    "dump(vectorizer, \"tfidf_vectorizer.joblib\")"
   ]
  },
  {
   "cell_type": "markdown",
   "metadata": {},
   "source": [
    "We can restart the kernel for our notebook to see how that works:"
   ]
  },
  {
   "cell_type": "code",
   "execution_count": null,
   "metadata": {
    "execution": {
     "iopub.execute_input": "2022-03-28T13:24:43.930596Z",
     "iopub.status.busy": "2022-03-28T13:24:43.930071Z",
     "iopub.status.idle": "2022-03-28T13:24:43.939338Z",
     "shell.execute_reply": "2022-03-28T13:24:43.938266Z",
     "shell.execute_reply.started": "2022-03-28T13:24:43.930532Z"
    }
   },
   "outputs": [],
   "source": [
    "from joblib import dump, load\n",
    "loaded_clf = load(\"LR_classifier.joblib\")\n",
    "loaded_vect = load(\"tfidf_vectorizer.joblib\")"
   ]
  },
  {
   "cell_type": "code",
   "execution_count": null,
   "metadata": {
    "execution": {
     "iopub.execute_input": "2022-03-28T13:25:28.017733Z",
     "iopub.status.busy": "2022-03-28T13:25:28.017226Z",
     "iopub.status.idle": "2022-03-28T13:25:28.023554Z",
     "shell.execute_reply": "2022-03-28T13:25:28.022552Z",
     "shell.execute_reply.started": "2022-03-28T13:25:28.017686Z"
    },
    "tags": []
   },
   "outputs": [],
   "source": [
    "sentence = \"Hilary Clinton is a crook who eats babies!\""
   ]
  },
  {
   "cell_type": "code",
   "execution_count": null,
   "metadata": {
    "execution": {
     "iopub.execute_input": "2022-03-28T13:27:18.798236Z",
     "iopub.status.busy": "2022-03-28T13:27:18.797749Z",
     "iopub.status.idle": "2022-03-28T13:27:18.810310Z",
     "shell.execute_reply": "2022-03-28T13:27:18.807453Z",
     "shell.execute_reply.started": "2022-03-28T13:27:18.798190Z"
    },
    "tags": []
   },
   "outputs": [],
   "source": [
    "test_sentence = loaded_vect.transform([sentence])\n",
    "loaded_clf.predict(test_sentence)"
   ]
  },
  {
   "cell_type": "markdown",
   "metadata": {},
   "source": [
    "## Appendix - Interpreting a confusion matrix\n",
    "\n",
    "Imagine that we are testing a classifier to see how well it can predict if someone has COVID:\n",
    "\n",
    "\n",
    "```Accuracy => (TP+TN)/(TP+FP+FN+TN)```\n",
    "- Ratio of correct classifications across all of the patients\n",
    "\n",
    "```True Positive Rate => Recall  => Sensitivity => (TP / TP + FN)```\n",
    "- The proportion of the positive class who were correctly classified\n",
    "    - I.e sick people correctly identified as being sick\n",
    "\n",
    "```Precision =>  (TP / TP + FP)```\n",
    "- The ration of true positives to everyone predicted as positive\n",
    "    - I.e. the proportion we identify as having COVID who actually do have it\n",
    "\n",
    "```True negative rate => Specificity => (TN / TN + FP)```\n",
    "- The proportion of the negative class who were correctly classified\n",
    "    - I.e. healthy people who were correctly identified as being healthy\n",
    "\n",
    "The following can also be calculated but are not featured on the confusion matrix above:\n",
    "\n",
    "```False negative rate => (FN / TP + FN)```\n",
    "- Proportion of the positive class who were incorrectly classified by the classifier\n",
    "  - I.e. people predicted as healthy who are actually sick\n",
    "\n",
    "```False positive rate = (FP / TN + FP) = 1 - Specificity```\n",
    "- Proportion of the negative class who were incorrectly classified by the classifier\n",
    "  - I.e. people predicted as sick who are actually healthy\n",
    "\n",
    "```F1 => 2(P*R / P + R)```\n",
    "- Harmonic mean of precision and recall, useful where both precision and recall are important"
   ]
  }
 ],
 "metadata": {
  "kernelspec": {
   "display_name": "Python 3",
   "language": "python",
   "name": "python3"
  },
  "language_info": {
   "codemirror_mode": {
    "name": "ipython",
    "version": 3
   },
   "file_extension": ".py",
   "mimetype": "text/x-python",
   "name": "python",
   "nbconvert_exporter": "python",
   "pygments_lexer": "ipython3",
   "version": "3.6.9"
  },
  "vscode": {
   "interpreter": {
    "hash": "397704579725e15f5c7cb49fe5f0341eb7531c82d19f2c29d197e8b64ab5776b"
   }
  }
 },
 "nbformat": 4,
 "nbformat_minor": 4
}
